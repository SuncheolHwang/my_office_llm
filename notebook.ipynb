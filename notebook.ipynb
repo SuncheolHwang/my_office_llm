{
 "cells": [
  {
   "cell_type": "code",
   "execution_count": 1,
   "metadata": {},
   "outputs": [
    {
     "data": {
      "text/plain": [
       "AIMessage(content='AXI stands for Advanced eXtensible Interface. It is a widely used bus protocol that provides a high-performance and low-latency interface between different components in a system-on-chip (SoC) design. AXI facilitates efficient data transfer and communication between processors, memory controllers, and other peripherals in a system. It supports features such as burst transfers, multiple data widths, and quality of service (QoS) signaling to optimize performance and resource utilization.')"
      ]
     },
     "execution_count": 1,
     "metadata": {},
     "output_type": "execute_result"
    }
   ],
   "source": [
    "from langchain.chat_models import ChatOpenAI\n",
    "from langchain.document_loaders import TextLoader\n",
    "from langchain.document_loaders import PyPDFLoader\n",
    "from langchain.document_loaders import UnstructuredFileLoader\n",
    "from langchain.text_splitter import RecursiveCharacterTextSplitter\n",
    "from langchain.text_splitter import CharacterTextSplitter\n",
    "from langchain.embeddings import OpenAIEmbeddings, CacheBackedEmbeddings\n",
    "from langchain.vectorstores import FAISS\n",
    "from langchain.storage import LocalFileStore\n",
    "from langchain.prompts import ChatPromptTemplate\n",
    "from langchain.schema.runnable import RunnablePassthrough, RunnableLambda\n",
    "\n",
    "llm = ChatOpenAI(\n",
    "    temperature=0.1,\n",
    ")\n",
    "\n",
    "cache_dir = LocalFileStore(\"./.cache/\")\n",
    "\n",
    "splitter = CharacterTextSplitter.from_tiktoken_encoder(\n",
    "    separator=\"\\n\",\n",
    "    chunk_size=600,\n",
    "    chunk_overlap=100,\n",
    ")\n",
    "\n",
    "loader = UnstructuredFileLoader(\"./files/chapter_one.txt\")\n",
    "\n",
    "docs = loader.load_and_split(text_splitter=splitter)\n",
    "\n",
    "embeddings = OpenAIEmbeddings()\n",
    "\n",
    "cached_embeddings = CacheBackedEmbeddings.from_bytes_store(\n",
    "    embeddings, cache_dir)\n",
    "\n",
    "vectorstore = FAISS.from_documents(docs, cached_embeddings)\n",
    "\n",
    "retriver = vectorstore.as_retriever()\n",
    "\n",
    "map_doc_prompt = ChatPromptTemplate.from_messages(\n",
    "    [\n",
    "        (\n",
    "            \"system\",\n",
    "            \"\"\"\n",
    "    Use the following portion of a long document to see if any of the text is relevant to answer the question. Return any relevant text verbatim.\n",
    "    ------\n",
    "    {context}\n",
    "    \"\"\",\n",
    "        ),\n",
    "        (\"human\", \"{question}\"),\n",
    "    ]\n",
    ")\n",
    "\n",
    "map_doc_chain = map_doc_prompt | llm\n",
    "\n",
    "\n",
    "def map_docs(inputs):\n",
    "    documents = inputs[\"documents\"]\n",
    "    question = inputs[\"question\"]\n",
    "    return \"\\n\\n\".join(\n",
    "        map_doc_chain.invoke(\n",
    "            {\n",
    "                \"context\": doc.page_content,\n",
    "                \"question\": question,\n",
    "            }\n",
    "        ).content\n",
    "        for doc in documents\n",
    "    )\n",
    "\n",
    "\n",
    "map_chain = {\"documents\": retriver, \"question\": RunnablePassthrough()} | RunnableLambda(\n",
    "    map_docs\n",
    ")\n",
    "\n",
    "final_prompt = ChatPromptTemplate.from_messages(\n",
    "    [\n",
    "        \"system\",\n",
    "        \"\"\"\n",
    "    Given the following extracted parts of a long document and a question, create a final answer. If you don't know the answer, just say that you don't know. Don't try to make up an answer.\n",
    "    ------\n",
    "    {context}\n",
    "    \"\"\",\n",
    "        (\"human\", \"{question}\"),\n",
    "    ]\n",
    ")\n",
    "\n",
    "chain = {\"context\": map_chain, \"question\": RunnablePassthrough()\n",
    "         } | final_prompt | llm\n",
    "\n",
    "chain.invoke(\"what is AXI?\")"
   ]
  },
  {
   "cell_type": "code",
   "execution_count": 47,
   "metadata": {},
   "outputs": [
    {
     "data": {
      "text/plain": [
       "[Document(page_content='Central Interconnect\\nThe central interconnect is the core of the Arm NIC301-based interconnect switches.\\nMaster Interconnect\\nThe master interconnect switches the low-to-medium speed traffic from the central interconnect to M_AXI_GP ports, I/O peripherals (IOP) and other blocks.\\nSlave Interconnect\\nThe slave interconnect switches the low-to-medium speed traffic from S_AXI_GP ports, DevC and DAP to the central interconnect.\\nMemory Interconnect\\nThe memory interconnect switches the high speed traffic from the AXI_HP ports to DDR DRAM and on-chip RAM (through another interconnect).\\nOCM Interconnect\\nThe OCM interconnect switches the high speed traffic from the central interconnect and the memory interconnect.\\nL2 Cache Controller\\nThe functionality of the L2 cache controller is described in Application Processing Unit. The address filtering feature of the L2 cache controller makes the L2 cache controller function like a switch from the perspective of the traffic from its AXI slave ports to its AXI master ports.\\nInterconnect Slaves\\nThe interconnect slaves are shown toward the bottom of Figure 5-1. The Interconnect slaves include:\\nOn-chip RAM (OCM)\\nDDR DRAM\\nGeneral purpose PL interfaces, M_AXI_GP{1:0}\\nAHB slaves (IOP with local DMA units)\\nAPB slaves (programmable registers in various blocks)\\nGPV (programmable registers of the interconnect, not shown in Figure 5-1)\\nRead/Write Request Capability\\nThe R/W Request Capability shown in Figure 5-1 and in Table 5-1 describes the maximum number of requests that the master of a datapath can issue. This does not mean the master can always issue the maximum number of requests under all circumstances or scenarios. There are conditions where other limiting factors can be active to reduce the number of requests.\\nOne particular example is the extended write rule in the deadlock avoidance scheme, which ensures the network only issues a write transaction (on the AW channel) if all the outstanding write transactions have had the last write data beat transmitted (on the W channel). Under this rule, if the number of write data beats is large, preventing a second write request from being issued in a certain spot in the network, because the network must wait until the last beat of write data of the first write is transmitted, then only a single write request can be issued by a master.\\nQuality of Service (QoS) Basic Arbitration', metadata={'source': './files/chapter_one.txt'}),\n",
       " Document(page_content='Central Interconnect\\nThe central interconnect is the core of the Arm NIC301-based interconnect switches.\\nMaster Interconnect\\nThe master interconnect switches the low-to-medium speed traffic from the central interconnect to M_AXI_GP ports, I/O peripherals (IOP) and other blocks.\\nSlave Interconnect\\nThe slave interconnect switches the low-to-medium speed traffic from S_AXI_GP ports, DevC and DAP to the central interconnect.\\nMemory Interconnect\\nThe memory interconnect switches the high speed traffic from the AXI_HP ports to DDR DRAM and on-chip RAM (through another interconnect).\\nOCM Interconnect\\nThe OCM interconnect switches the high speed traffic from the central interconnect and the memory interconnect.\\nL2 Cache Controller\\nThe functionality of the L2 cache controller is described in Application Processing Unit. The address filtering feature of the L2 cache controller makes the L2 cache controller function like a switch from the perspective of the traffic from its AXI slave ports to its AXI master ports.\\nInterconnect Slaves\\nThe interconnect slaves are shown toward the bottom of Figure 5-1. The Interconnect slaves include:\\nOn-chip RAM (OCM)\\nDDR DRAM\\nGeneral purpose PL interfaces, M_AXI_GP{1:0}\\nAHB slaves (IOP with local DMA units)\\nAPB slaves (programmable registers in various blocks)\\nGPV (programmable registers of the interconnect, not shown in Figure 5-1)\\nRead/Write Request Capability\\nThe R/W Request Capability shown in Figure 5-1 and in Table 5-1 describes the maximum number of requests that the master of a datapath can issue. This does not mean the master can always issue the maximum number of requests under all circumstances or scenarios. There are conditions where other limiting factors can be active to reduce the number of requests.\\nOne particular example is the extended write rule in the deadlock avoidance scheme, which ensures the network only issues a write transaction (on the AW channel) if all the outstanding write transactions have had the last write data beat transmitted (on the W channel). Under this rule, if the number of write data beats is large, preventing a second write request from being issued in a certain spot in the network, because the network must wait until the last beat of write data of the first write is transmitted, then only a single write request can be issued by a master.\\nQuality of Service (QoS) Basic Arbitration', metadata={'source': './files/chapter_one.txt'}),\n",
       " Document(page_content='Quality of Service (QoS) Basic Arbitration\\nEach interconnect (central, master, slave, memory) uses a two-level arbitration scheme to resolve contention. The first-level arbitration is based on the priority indicated by the AXI QoS signals from the master or programmable registers. The highest QoS value has the highest priority. The second-level arbitration is based on a least recently granted (LRG) scheme and is used when multiple requests are pending with the same QoS signal value. Information on OCM arbitration can be found in DDR Memory Controller.\\nAdvanced QoS\\nIn addition to the basic arbitration, the interconnect provides an advanced QoS control mechanism. This programmable mechanism influences interconnect arbitration for requests from these masters:\\nCPUs and ACP requests to DDR (through L2 cache controller port M0)\\nDMA controller requests to DDR and OCM (through the central interconnect)\\nAMBA master requests to DDR and OCM (through the central interconnect)\\nIn the PS, advanced QoS modules exist on the following paths:\\nPath from L2 cache to DDR\\nPath from DMA controller to the central interconnect\\nPath from AHB masters to the central interconnect\\nThe QoS module is based on Arm QoS-301, which is an extension to the NIC-301 network interconnect. They provide facilities to regulate transactions as follows:\\nMaximum number of outstanding transactions\\nPeak rates,\\nAverage rates\\nBurstiness\\nFor more information, refer to CoreLink QoS-301 Network Interconnect Advanced Quality of Service Technical Reference Manual.\\nThe use of QoS arbitration for all slave interfaces should be performed with careful deliberation, as fixed priority arbitration leads to starvation issues if not used properly. By default, all ports have equal priority so starvation is not an issue.\\nRationale\\nYou are expected to create “well behaved” masters in the PL, which sufficiently throttle their rate of command issuance, or use the AXI_HP issuance capability settings. However, traffic from CPUs (through L2 cache), the DMA controller, and the IOP masters can interfere with traffic from the PL. The QoS modules allow you to throttle these PS masters to ensure expected/consistent throughput and latency for the user design in the PL or specific PS masters. This is especially useful for video, which requires guaranteed maximum latency. By regulating the “irregular” masters such as CPUs, the DMA controller, and IOP masters, it is possible to guarantee maximum latency for PL-based video.\\nDDR Port Arbitration', metadata={'source': './files/chapter_one.txt'}),\n",
       " Document(page_content='Quality of Service (QoS) Basic Arbitration\\nEach interconnect (central, master, slave, memory) uses a two-level arbitration scheme to resolve contention. The first-level arbitration is based on the priority indicated by the AXI QoS signals from the master or programmable registers. The highest QoS value has the highest priority. The second-level arbitration is based on a least recently granted (LRG) scheme and is used when multiple requests are pending with the same QoS signal value. Information on OCM arbitration can be found in DDR Memory Controller.\\nAdvanced QoS\\nIn addition to the basic arbitration, the interconnect provides an advanced QoS control mechanism. This programmable mechanism influences interconnect arbitration for requests from these masters:\\nCPUs and ACP requests to DDR (through L2 cache controller port M0)\\nDMA controller requests to DDR and OCM (through the central interconnect)\\nAMBA master requests to DDR and OCM (through the central interconnect)\\nIn the PS, advanced QoS modules exist on the following paths:\\nPath from L2 cache to DDR\\nPath from DMA controller to the central interconnect\\nPath from AHB masters to the central interconnect\\nThe QoS module is based on Arm QoS-301, which is an extension to the NIC-301 network interconnect. They provide facilities to regulate transactions as follows:\\nMaximum number of outstanding transactions\\nPeak rates,\\nAverage rates\\nBurstiness\\nFor more information, refer to CoreLink QoS-301 Network Interconnect Advanced Quality of Service Technical Reference Manual.\\nThe use of QoS arbitration for all slave interfaces should be performed with careful deliberation, as fixed priority arbitration leads to starvation issues if not used properly. By default, all ports have equal priority so starvation is not an issue.\\nRationale\\nYou are expected to create “well behaved” masters in the PL, which sufficiently throttle their rate of command issuance, or use the AXI_HP issuance capability settings. However, traffic from CPUs (through L2 cache), the DMA controller, and the IOP masters can interfere with traffic from the PL. The QoS modules allow you to throttle these PS masters to ensure expected/consistent throughput and latency for the user design in the PL or specific PS masters. This is especially useful for video, which requires guaranteed maximum latency. By regulating the “irregular” masters such as CPUs, the DMA controller, and IOP masters, it is possible to guarantee maximum latency for PL-based video.\\nDDR Port Arbitration', metadata={'source': './files/chapter_one.txt'})]"
      ]
     },
     "execution_count": 47,
     "metadata": {},
     "output_type": "execute_result"
    }
   ],
   "source": [
    "# list of docs\n",
    "\n",
    "# for doc in list of docs | prompt | llm\n",
    "\n",
    "# for response in list of llm response | put them all together\n",
    "\n",
    "# final doc | prompt | llm\n",
    "\n",
    "# chain.invoke(question)"
   ]
  },
  {
   "cell_type": "code",
   "execution_count": 3,
   "metadata": {},
   "outputs": [
    {
     "data": {
      "text/plain": [
       "' root vegetable that is native to South America. It is a staple food in many countries around the world, including Peru, Bolivia, and Colombia. Potatoes are easy to grow and can be harvested year-round. They are also versatile and can be used in a variety of dishes, from mashed potatoes to baked potatoes.'"
      ]
     },
     "execution_count": 3,
     "metadata": {},
     "output_type": "execute_result"
    }
   ],
   "source": [
    "from langchain.llms import GPT4All\n",
    "from langchain.llms.huggingface_pipeline import HuggingFacePipeline\n",
    "from langchain.prompts import PromptTemplate\n",
    "\n",
    "prompt = PromptTemplate.from_template(\n",
    "    \"You are a helpful assistant that defines words. Define this word: {word}.\")\n",
    "\n",
    "llm = GPT4All(\n",
    "    model=\"./gpt4all-falcon-q4_0.gguf\",\n",
    ")\n",
    "\n",
    "chain = prompt | llm\n",
    "\n",
    "chain.invoke({\"word\": \"potato\"})"
   ]
  },
  {
   "cell_type": "code",
   "execution_count": null,
   "metadata": {},
   "outputs": [],
   "source": []
  }
 ],
 "metadata": {
  "kernelspec": {
   "display_name": "env",
   "language": "python",
   "name": "python3"
  },
  "language_info": {
   "codemirror_mode": {
    "name": "ipython",
    "version": 3
   },
   "file_extension": ".py",
   "mimetype": "text/x-python",
   "name": "python",
   "nbconvert_exporter": "python",
   "pygments_lexer": "ipython3",
   "version": "3.10.12"
  }
 },
 "nbformat": 4,
 "nbformat_minor": 2
}
